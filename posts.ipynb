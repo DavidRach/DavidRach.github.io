{
  "cells": [
    {
      "cell_type": "raw",
      "metadata": {},
      "source": [
        "---\n",
        "title: \"Overcaffeinated Rabbit Trails\"\n",
        "subtitle: A study in procrastination\n",
        "page-layout: article\n",
        "listing:\n",
        "  contents: posts\n",
        "  type: grid\n",
        "  sort: \"date desc\"\n",
        "  categories: true\n",
        "---"
      ],
      "id": "996bbc10"
    },
    {
      "cell_type": "markdown",
      "metadata": {},
      "source": [
        "```{css, echo = FALSE}\n",
        ".justify{\n",
        "  text-align: center\n",
        "}\n",
        "```\n",
        "\n",
        "\n",
        "\n",
        ":::: columns\n",
        "\n",
        ":::{.column width=\"5%\"}\n",
        ":::\n",
        "\n",
        ":::{.column width=\"90%\"}\n",
        "![](images/RabbitTrails.jpg){width=100%}\n",
        ":::\n",
        "\n",
        ":::{.column width=\"5%\"}\n",
        ":::\n",
        "\n",
        "::::\n",
        "\n",
        "#### "
      ],
      "id": "941f4649"
    }
  ],
  "metadata": {
    "kernelspec": {
      "display_name": "Python 3",
      "language": "python",
      "name": "python3"
    }
  },
  "nbformat": 4,
  "nbformat_minor": 5
}