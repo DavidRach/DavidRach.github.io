{
  "cells": [
    {
      "cell_type": "raw",
      "metadata": {},
      "source": [
        "---\n",
        "title: \"About\"\n",
        "image: ProfilePic.png\n",
        "about:\n",
        "  template: jolla\n",
        "---"
      ],
      "id": "9edae35b"
    },
    {
      "cell_type": "markdown",
      "metadata": {},
      "source": [
        "```{css, echo = FALSE}\n",
        ".justify {\n",
        "  text-align: justify !important\n",
        "}\n",
        "```\n",
        "\n",
        "\n",
        "\n",
        "\n",
        "#### Baltimore\n",
        "\n",
        "::: {.justify}\n",
        "I am a PhD candidate in Molecular Microbiology and Immunology at the University of Maryland, Baltimore. My thesis project is focused on understanding how prenatal exposure to HIV affects the immune systems of HIV-exposed Uninfected (HEU) infants, and what the consequences of these exposures are in early life.\n",
        ":::\n",
        "\n",
        "![](Agbagba.jpg){width=\"400\"}\n",
        "#### Volta Region, Ghana\n",
        "\n",
        "::: {.justify}\n",
        "After Wyoming, but before moving to Baltimore for graduate school, I served in the US Peace Corps as a Secondary Science Education Volunteer, in Ghana (West Africa) from 2016-2018, teaching biology and chemistry at a rural high school in the Volta region in the SE corner of the country.\n",
        ":::\n",
        "\n",
        "\n",
        "\n",
        "#### Wyoming\n",
        "::: {.justify}\n",
        "I received my A.S in Natural Resources Biology from [Northwest College](https://nwc.edu/), where thanks to the opportunities for undergraduate research supported by Wyoming [INBRE](http://www.uwyo.edu/wyominginbre/) I first became interested in Microbiology. I then transferred to the [University of Wyoming](http://www.uwyo.edu/) where I completed my B.S. in Molecular Biology and Microbiology in 2016. It was here I became interested in Immunology, as I researched NK cell responses in mice to *Toxoplasma gondii* infection in the lab of [Jason Gigley](http://www.uwyo.edu/molecbio/faculty-and-staff/jason-gigley/index.html)\n",
        ":::\n",
        "\n",
        "\n",
        "#### Chiapas, Mexico\n",
        "::: {.justify}\n",
        "\"Where are you from?\" is a question I am frequently asked, but defies a simple answer. When I was two, my family moved to Chiapas, Mexico to work. And that's where we remained.\n",
        ":::"
      ],
      "id": "6102e259"
    }
  ],
  "metadata": {
    "kernelspec": {
      "display_name": "Python 3",
      "language": "python",
      "name": "python3"
    }
  },
  "nbformat": 4,
  "nbformat_minor": 5
}